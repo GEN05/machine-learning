{
 "cells": [
  {
   "cell_type": "markdown",
   "metadata": {},
   "source": [
    "### Import neccessary libraries"
   ]
  },
  {
   "cell_type": "code",
   "execution_count": 1,
   "metadata": {},
   "outputs": [],
   "source": [
    "import pandas as pd\n",
    "from sklearn.model_selection import train_test_split\n",
    "from sklearn.svm import SVC\n",
    "from sklearn.metrics import classification_report,confusion_matrix,roc_auc_score,accuracy_score,f1_score,recall_score,precision_score\n",
    "from imblearn.over_sampling import SMOTE\n",
    "from collections import Counter"
   ]
  },
  {
   "cell_type": "markdown",
   "metadata": {},
   "source": [
    "### Data preprocessing"
   ]
  },
  {
   "cell_type": "code",
   "execution_count": 2,
   "metadata": {},
   "outputs": [],
   "source": [
    "df = pd.read_csv('anc dataset.csv')\n",
    "dummies = pd.get_dummies(df.Presentation, prefix='Presentaion')\n",
    "dfConcat = pd.concat([df,dummies],axis='columns')\n",
    "dfFinal = dfConcat.drop(['Presentation'],axis='columns')"
   ]
  },
  {
   "cell_type": "markdown",
   "metadata": {},
   "source": [
    "### Data spliting"
   ]
  },
  {
   "cell_type": "code",
   "execution_count": 3,
   "metadata": {},
   "outputs": [],
   "source": [
    "X = dfFinal.drop('Complication',axis='columns')\n",
    "y = dfFinal.Complication\n",
    "\n",
    "X_train,X_test, y_train,y_test = train_test_split(X,y,test_size=0.3,random_state=10, stratify=y)"
   ]
  },
  {
   "cell_type": "markdown",
   "metadata": {},
   "source": [
    "### Model fitting and predicting"
   ]
  },
  {
   "cell_type": "code",
   "execution_count": 4,
   "metadata": {},
   "outputs": [],
   "source": [
    "model = SVC()\n",
    "model.fit(X_train,y_train)\n",
    "y_predict = model.predict(X_test)"
   ]
  },
  {
   "cell_type": "markdown",
   "metadata": {},
   "source": [
    "### Model performance measuring"
   ]
  },
  {
   "cell_type": "code",
   "execution_count": 5,
   "metadata": {},
   "outputs": [
    {
     "name": "stdout",
     "output_type": "stream",
     "text": [
      "              precision    recall  f1-score   support\n",
      "\n",
      "           0       0.84      1.00      0.91       504\n",
      "           1       0.00      0.00      0.00        96\n",
      "\n",
      "    accuracy                           0.84       600\n",
      "   macro avg       0.42      0.50      0.46       600\n",
      "weighted avg       0.71      0.84      0.77       600\n",
      "\n",
      "[[504   0]\n",
      " [ 96   0]]\n",
      "Accuracy: 84.00%\n",
      "AUC: 50.00%\n",
      "Precision: 0.00%\n",
      "F1-Score: 0.00%\n",
      "Recall: 0.00%\n"
     ]
    },
    {
     "name": "stderr",
     "output_type": "stream",
     "text": [
      "C:\\Users\\Allenatech-F\\AppData\\Local\\Continuum\\anaconda3\\lib\\site-packages\\sklearn\\metrics\\_classification.py:1221: UndefinedMetricWarning: Precision and F-score are ill-defined and being set to 0.0 in labels with no predicted samples. Use `zero_division` parameter to control this behavior.\n",
      "  _warn_prf(average, modifier, msg_start, len(result))\n",
      "C:\\Users\\Allenatech-F\\AppData\\Local\\Continuum\\anaconda3\\lib\\site-packages\\sklearn\\metrics\\_classification.py:1221: UndefinedMetricWarning: Precision is ill-defined and being set to 0.0 due to no predicted samples. Use `zero_division` parameter to control this behavior.\n",
      "  _warn_prf(average, modifier, msg_start, len(result))\n"
     ]
    }
   ],
   "source": [
    "print(classification_report(y_test, y_predict))\n",
    "print(confusion_matrix(y_test, y_predict))\n",
    "\n",
    "print(\"Accuracy: %.2f%%\" % (accuracy_score(y_test,y_predict)*100))\n",
    "print(\"AUC: %.2f%%\" % (roc_auc_score(y_test,y_predict)*100))\n",
    "print(\"Precision: %.2f%%\" % (precision_score(y_test,y_predict)*100))\n",
    "print(\"F1-Score: %.2f%%\" % (f1_score(y_test, y_predict)*100))\n",
    "print(\"Recall: %.2f%%\" % (recall_score(y_test, y_predict)*100))"
   ]
  },
  {
   "cell_type": "markdown",
   "metadata": {},
   "source": [
    "### Balancing training dataset via Synthetic Minority Oversampling Technique (SMOT)"
   ]
  },
  {
   "cell_type": "code",
   "execution_count": 6,
   "metadata": {},
   "outputs": [
    {
     "name": "stdout",
     "output_type": "stream",
     "text": [
      "Before SMOTE : Counter({0: 1176, 1: 224})\n",
      "After SMOTE : Counter({0: 1176, 1: 1176})\n"
     ]
    }
   ],
   "source": [
    "smote = SMOTE()\n",
    "X_train_smote, y_train_smote = smote.fit_sample(X_train,y_train)\n",
    "\n",
    "print(\"Before SMOTE :\" , Counter(y_train))\n",
    "print(\"After SMOTE :\" , Counter(y_train_smote))"
   ]
  },
  {
   "cell_type": "markdown",
   "metadata": {},
   "source": [
    "### Model fitting and predicting after applying SMOT"
   ]
  },
  {
   "cell_type": "code",
   "execution_count": 7,
   "metadata": {},
   "outputs": [],
   "source": [
    "model.fit(X_train_smote,y_train_smote)\n",
    "y_predict = model.predict(X_test)"
   ]
  },
  {
   "cell_type": "markdown",
   "metadata": {},
   "source": [
    "### Model performance measuring after applying SMOT"
   ]
  },
  {
   "cell_type": "code",
   "execution_count": 8,
   "metadata": {},
   "outputs": [
    {
     "name": "stdout",
     "output_type": "stream",
     "text": [
      "              precision    recall  f1-score   support\n",
      "\n",
      "           0       0.90      0.62      0.73       504\n",
      "           1       0.24      0.65      0.35        96\n",
      "\n",
      "    accuracy                           0.62       600\n",
      "   macro avg       0.57      0.63      0.54       600\n",
      "weighted avg       0.80      0.62      0.67       600\n",
      "\n",
      "[[310 194]\n",
      " [ 34  62]]\n",
      "Accuracy: 62.00%\n",
      "AUC: 63.05%\n",
      "Precision: 24.22%\n",
      "F1-Score: 35.23%\n",
      "Recall: 64.58%\n"
     ]
    }
   ],
   "source": [
    "print(classification_report(y_test, y_predict))\n",
    "print(confusion_matrix(y_test, y_predict))\n",
    "\n",
    "print(\"Accuracy: %.2f%%\" % (accuracy_score(y_test,y_predict)*100))\n",
    "print(\"AUC: %.2f%%\" % (roc_auc_score(y_test,y_predict)*100))\n",
    "print(\"Precision: %.2f%%\" % (precision_score(y_test,y_predict)*100))\n",
    "print(\"F1-Score: %.2f%%\" % (f1_score(y_test, y_predict)*100))\n",
    "print(\"Recall: %.2f%%\" % (recall_score(y_test, y_predict)*100))"
   ]
  }
 ],
 "metadata": {
  "kernelspec": {
   "display_name": "Python 3",
   "language": "python",
   "name": "python3"
  },
  "language_info": {
   "codemirror_mode": {
    "name": "ipython",
    "version": 3
   },
   "file_extension": ".py",
   "mimetype": "text/x-python",
   "name": "python",
   "nbconvert_exporter": "python",
   "pygments_lexer": "ipython3",
   "version": "3.7.4"
  }
 },
 "nbformat": 4,
 "nbformat_minor": 2
}
