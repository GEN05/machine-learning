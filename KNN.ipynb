{
 "cells": [
  {
   "cell_type": "markdown",
   "metadata": {},
   "source": [
    "### Import neccessary libraries"
   ]
  },
  {
   "cell_type": "code",
   "execution_count": 1,
   "metadata": {},
   "outputs": [],
   "source": [
    "import pandas as pd\n",
    "from sklearn.model_selection import train_test_split\n",
    "from sklearn.neighbors import KNeighborsClassifier\n",
    "from sklearn.metrics import classification_report,confusion_matrix,roc_auc_score,accuracy_score,f1_score,recall_score,precision_score\n",
    "from imblearn.over_sampling import SMOTE\n",
    "from collections import Counter"
   ]
  },
  {
   "cell_type": "markdown",
   "metadata": {},
   "source": [
    "### Data preprocessing"
   ]
  },
  {
   "cell_type": "code",
   "execution_count": 2,
   "metadata": {},
   "outputs": [],
   "source": [
    "df = pd.read_csv('anc dataset.csv')\n",
    "dummies = pd.get_dummies(df.Presentation, prefix='Presentaion')\n",
    "dfConcat = pd.concat([df,dummies],axis='columns')\n",
    "dfFinal = dfConcat.drop(['Presentation'],axis='columns')"
   ]
  },
  {
   "cell_type": "markdown",
   "metadata": {},
   "source": [
    "### Data spliting"
   ]
  },
  {
   "cell_type": "code",
   "execution_count": 3,
   "metadata": {},
   "outputs": [],
   "source": [
    "X = dfFinal.drop('Complication',axis='columns')\n",
    "y = dfFinal.Complication\n",
    "X_train,X_test, y_train,y_test = train_test_split(X,y,test_size=0.3,random_state=10, stratify=y)"
   ]
  },
  {
   "cell_type": "markdown",
   "metadata": {},
   "source": [
    "### Model fitting and predicting"
   ]
  },
  {
   "cell_type": "code",
   "execution_count": 4,
   "metadata": {},
   "outputs": [],
   "source": [
    "model = KNeighborsClassifier(n_neighbors=5)\n",
    "model.fit(X_train,y_train)\n",
    "y_predict = model.predict(X_test)"
   ]
  },
  {
   "cell_type": "markdown",
   "metadata": {},
   "source": [
    "### Model performance measuring"
   ]
  },
  {
   "cell_type": "code",
   "execution_count": 5,
   "metadata": {},
   "outputs": [
    {
     "name": "stdout",
     "output_type": "stream",
     "text": [
      "              precision    recall  f1-score   support\n",
      "\n",
      "           0       0.90      0.94      0.92       504\n",
      "           1       0.61      0.45      0.51        96\n",
      "\n",
      "    accuracy                           0.86       600\n",
      "   macro avg       0.75      0.70      0.72       600\n",
      "weighted avg       0.85      0.86      0.86       600\n",
      "\n",
      "[[476  28]\n",
      " [ 53  43]]\n",
      "Accuracy: 86.50%\n",
      "AUC: 69.62%\n",
      "Precision: 60.56%\n",
      "F1-Score: 51.50%\n",
      "Recall: 44.79%\n"
     ]
    }
   ],
   "source": [
    "print(classification_report(y_test, y_predict))\n",
    "print(confusion_matrix(y_test, y_predict))\n",
    "\n",
    "print(\"Accuracy: %.2f%%\" % (accuracy_score(y_test,y_predict)*100))\n",
    "print(\"AUC: %.2f%%\" % (roc_auc_score(y_test,y_predict)*100))\n",
    "print(\"Precision: %.2f%%\" % (precision_score(y_test,y_predict)*100))\n",
    "print(\"F1-Score: %.2f%%\" % (f1_score(y_test, y_predict)*100))\n",
    "print(\"Recall: %.2f%%\" % (recall_score(y_test, y_predict)*100))"
   ]
  },
  {
   "cell_type": "markdown",
   "metadata": {},
   "source": [
    "### Balancing training dataset via Synthetic Minority Oversampling Technique (SMOT)"
   ]
  },
  {
   "cell_type": "code",
   "execution_count": 6,
   "metadata": {},
   "outputs": [
    {
     "name": "stdout",
     "output_type": "stream",
     "text": [
      "Before SMOTE : Counter({0: 1176, 1: 224})\n",
      "After SMOTE : Counter({0: 1176, 1: 1176})\n"
     ]
    }
   ],
   "source": [
    "smote = SMOTE()\n",
    "X_train_smote, y_train_smote = smote.fit_sample(X_train,y_train)\n",
    "\n",
    "print(\"Before SMOTE :\" , Counter(y_train))\n",
    "print(\"After SMOTE :\" , Counter(y_train_smote))"
   ]
  },
  {
   "cell_type": "markdown",
   "metadata": {},
   "source": [
    "### Model fitting and predicting after applying SMOT"
   ]
  },
  {
   "cell_type": "code",
   "execution_count": 7,
   "metadata": {},
   "outputs": [],
   "source": [
    "model.fit(X_train_smote,y_train_smote)\n",
    "y_predict = model.predict(X_test)"
   ]
  },
  {
   "cell_type": "markdown",
   "metadata": {},
   "source": [
    "### Model performance measuring after applying SMOT"
   ]
  },
  {
   "cell_type": "code",
   "execution_count": 8,
   "metadata": {},
   "outputs": [
    {
     "name": "stdout",
     "output_type": "stream",
     "text": [
      "              precision    recall  f1-score   support\n",
      "\n",
      "           0       0.97      0.87      0.92       504\n",
      "           1       0.55      0.86      0.67        96\n",
      "\n",
      "    accuracy                           0.86       600\n",
      "   macro avg       0.76      0.86      0.79       600\n",
      "weighted avg       0.90      0.86      0.88       600\n",
      "\n",
      "[[436  68]\n",
      " [ 13  83]]\n",
      "0.865\n",
      "Accuracy: 86.50%\n",
      "AUC: 86.48%\n",
      "Precision: 54.97%\n",
      "F1-Score: 67.21%\n",
      "Recall: 86.46%\n"
     ]
    }
   ],
   "source": [
    "print(classification_report(y_test,y_predict))\n",
    "print(confusion_matrix(y_test, y_predict))\n",
    "print(accuracy_score(y_test,y_predict))\n",
    "\n",
    "print(\"Accuracy: %.2f%%\" % (accuracy_score(y_test,y_predict)*100))\n",
    "print(\"AUC: %.2f%%\" % (roc_auc_score(y_test,y_predict)*100))\n",
    "print(\"Precision: %.2f%%\" % (precision_score(y_test,y_predict)*100))\n",
    "print(\"F1-Score: %.2f%%\" % (f1_score(y_test, y_predict)*100))\n",
    "print(\"Recall: %.2f%%\" % (recall_score(y_test, y_predict)*100))"
   ]
  }
 ],
 "metadata": {
  "kernelspec": {
   "display_name": "Python 3",
   "language": "python",
   "name": "python3"
  },
  "language_info": {
   "codemirror_mode": {
    "name": "ipython",
    "version": 3
   },
   "file_extension": ".py",
   "mimetype": "text/x-python",
   "name": "python",
   "nbconvert_exporter": "python",
   "pygments_lexer": "ipython3",
   "version": "3.7.4"
  }
 },
 "nbformat": 4,
 "nbformat_minor": 2
}
