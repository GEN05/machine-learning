{
 "cells": [
  {
   "cell_type": "markdown",
   "metadata": {},
   "source": [
    "### Import neccessary libraries"
   ]
  },
  {
   "cell_type": "code",
   "execution_count": 1,
   "metadata": {},
   "outputs": [],
   "source": [
    "import pandas as pd\n",
    "from sklearn.model_selection import train_test_split\n",
    "from sklearn.ensemble import RandomForestClassifier\n",
    "from sklearn.metrics import classification_report,confusion_matrix,roc_auc_score,accuracy_score,f1_score,recall_score,precision_score\n",
    "from imblearn.over_sampling import SMOTE\n",
    "from collections import Counter"
   ]
  },
  {
   "cell_type": "markdown",
   "metadata": {},
   "source": [
    "### Data preprocessing"
   ]
  },
  {
   "cell_type": "code",
   "execution_count": 2,
   "metadata": {},
   "outputs": [],
   "source": [
    "df = pd.read_csv('anc dataset.csv')\n",
    "dummies = pd.get_dummies(df.Presentation, prefix='Presentaion')\n",
    "dfConcat = pd.concat([df,dummies],axis='columns')\n",
    "dfFinal = dfConcat.drop(['Presentation'],axis='columns')"
   ]
  },
  {
   "cell_type": "markdown",
   "metadata": {},
   "source": [
    "### Data spliting"
   ]
  },
  {
   "cell_type": "code",
   "execution_count": 3,
   "metadata": {},
   "outputs": [],
   "source": [
    "X = dfFinal.drop('Complication',axis='columns')\n",
    "y = dfFinal.Complication\n",
    "\n",
    "X_train,X_test, y_train,y_test = train_test_split(X,y,test_size=0.3,random_state=10, stratify=y)"
   ]
  },
  {
   "cell_type": "markdown",
   "metadata": {},
   "source": [
    "### Model fitting and predicting"
   ]
  },
  {
   "cell_type": "code",
   "execution_count": 4,
   "metadata": {},
   "outputs": [],
   "source": [
    "model = RandomForestClassifier()\n",
    "model.fit(X_train,y_train)\n",
    "y_predict = model.predict(X_test)"
   ]
  },
  {
   "cell_type": "code",
   "execution_count": 5,
   "metadata": {},
   "outputs": [],
   "source": [
    "# print(model.feature_importances_)\n",
    "# fdic = dict(zip(X.columns, list(model.feature_importances_)))\n",
    "# fdicDF = pd.DataFrame(fdic, index=[0])\n",
    "# fdicDF.T.plot.bar(title=\"Feature Importance\", legend=False)"
   ]
  },
  {
   "cell_type": "markdown",
   "metadata": {},
   "source": [
    "### Model performance measuring"
   ]
  },
  {
   "cell_type": "code",
   "execution_count": 6,
   "metadata": {
    "scrolled": false
   },
   "outputs": [
    {
     "name": "stdout",
     "output_type": "stream",
     "text": [
      "              precision    recall  f1-score   support\n",
      "\n",
      "           0       0.97      0.98      0.97       504\n",
      "           1       0.88      0.84      0.86        96\n",
      "\n",
      "    accuracy                           0.96       600\n",
      "   macro avg       0.93      0.91      0.92       600\n",
      "weighted avg       0.96      0.96      0.96       600\n",
      "\n",
      "[[493  11]\n",
      " [ 15  81]]\n",
      "Accuracy: 95.67%\n",
      "ROC AUC: 91.10%\n",
      "Precision: 88.04%\n",
      "F1-Score: 86.17%\n",
      "Recall: 84.38%\n"
     ]
    }
   ],
   "source": [
    "print(classification_report(y_test, y_predict))\n",
    "print(confusion_matrix(y_test, y_predict))\n",
    "print(\"Accuracy: %.2f%%\" % (accuracy_score(y_test,y_predict)*100))\n",
    "print(\"ROC AUC: %.2f%%\" % (roc_auc_score(y_test,y_predict)*100))\n",
    "print(\"Precision: %.2f%%\" % (precision_score(y_test,y_predict)*100))\n",
    "print(\"F1-Score: %.2f%%\" % (f1_score(y_test, y_predict)*100))\n",
    "print(\"Recall: %.2f%%\" % (recall_score(y_test, y_predict)*100))"
   ]
  },
  {
   "cell_type": "markdown",
   "metadata": {},
   "source": [
    "### Balancing training dataset via Synthetic Minority Oversampling Technique (SMOT)"
   ]
  },
  {
   "cell_type": "code",
   "execution_count": 7,
   "metadata": {},
   "outputs": [
    {
     "name": "stdout",
     "output_type": "stream",
     "text": [
      "Before SMOTE : Counter({0: 1176, 1: 224})\n",
      "After SMOTE : Counter({0: 1176, 1: 1176})\n"
     ]
    }
   ],
   "source": [
    "smote = SMOTE()\n",
    "X_train_smote, y_train_smote = smote.fit_sample(X_train,y_train)\n",
    "\n",
    "print(\"Before SMOTE :\" , Counter(y_train))\n",
    "print(\"After SMOTE :\" , Counter(y_train_smote))"
   ]
  },
  {
   "cell_type": "markdown",
   "metadata": {},
   "source": [
    "### Model fitting and predicting after applying SMOT"
   ]
  },
  {
   "cell_type": "code",
   "execution_count": 8,
   "metadata": {},
   "outputs": [],
   "source": [
    "model.fit(X_train_smote,y_train_smote)\n",
    "y_predict = model.predict(X_test)"
   ]
  },
  {
   "cell_type": "markdown",
   "metadata": {},
   "source": [
    "### Model performance measuring after applying SMOT"
   ]
  },
  {
   "cell_type": "code",
   "execution_count": 9,
   "metadata": {},
   "outputs": [
    {
     "name": "stdout",
     "output_type": "stream",
     "text": [
      "              precision    recall  f1-score   support\n",
      "\n",
      "           0       0.99      0.96      0.98       504\n",
      "           1       0.83      0.95      0.88        96\n",
      "\n",
      "    accuracy                           0.96       600\n",
      "   macro avg       0.91      0.96      0.93       600\n",
      "weighted avg       0.96      0.96      0.96       600\n",
      "\n",
      "[[485  19]\n",
      " [  5  91]]\n",
      "Accuracy: 96.00%\n",
      "AUC: 95.51%\n",
      "Precision: 82.73%\n",
      "F1-Score: 88.35%\n",
      "Recall: 94.79%\n"
     ]
    }
   ],
   "source": [
    "print(classification_report(y_test, y_predict))\n",
    "print(confusion_matrix(y_test, y_predict))\n",
    "print(\"Accuracy: %.2f%%\" % (accuracy_score(y_test,y_predict)*100))\n",
    "print(\"AUC: %.2f%%\" % (roc_auc_score(y_test,y_predict)*100))\n",
    "print(\"Precision: %.2f%%\" % (precision_score(y_test,y_predict)*100))\n",
    "print(\"F1-Score: %.2f%%\" % (f1_score(y_test, y_predict)*100))\n",
    "print(\"Recall: %.2f%%\" % (recall_score(y_test, y_predict)*100))"
   ]
  },
  {
   "cell_type": "code",
   "execution_count": 15,
   "metadata": {},
   "outputs": [],
   "source": []
  },
  {
   "cell_type": "code",
   "execution_count": null,
   "metadata": {},
   "outputs": [],
   "source": []
  }
 ],
 "metadata": {
  "kernelspec": {
   "display_name": "Python 3",
   "language": "python",
   "name": "python3"
  },
  "language_info": {
   "codemirror_mode": {
    "name": "ipython",
    "version": 3
   },
   "file_extension": ".py",
   "mimetype": "text/x-python",
   "name": "python",
   "nbconvert_exporter": "python",
   "pygments_lexer": "ipython3",
   "version": "3.7.4"
  }
 },
 "nbformat": 4,
 "nbformat_minor": 2
}
